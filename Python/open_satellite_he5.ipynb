{
 "cells": [
  {
   "cell_type": "markdown",
   "metadata": {},
   "source": [
    "# Example Map Plotting - MOPITT CO"
   ]
  },
  {
   "cell_type": "code",
   "execution_count": 1,
   "metadata": {},
   "outputs": [],
   "source": [
    "# By line: RRB 2020-07-26\n",
    "# Script aims to:\n",
    "# - Load a MOPITT HDF5 file\n",
    "# - Extract variables: CO column, latitude, longitude\n",
    "# - Create contour plot of variable as world map with coastlines\n",
    "# - Customize contours and colorbar\n",
    "# - Add axes labels\n",
    "# - Add grid lines"
   ]
  },
  {
   "cell_type": "markdown",
   "metadata": {},
   "source": [
    "### At the start of a Jupyter notebook you need to import all modules that you will use."
   ]
  },
  {
   "cell_type": "code",
   "execution_count": 2,
   "metadata": {},
   "outputs": [],
   "source": [
    "import matplotlib.pyplot as plt\n",
    "import cartopy.crs as ccrs                 # For plotting maps\n",
    "import cartopy.feature as cfeature         # For plotting maps\n",
    "from cartopy.util import add_cyclic_point  # For plotting maps\n",
    "from pathlib import Path                   # System agnostic paths\n",
    "import xarray as xr                        # For loading the data arrays\n",
    "import numpy as np                         # For array creation and calculations\n",
    "import h5py                                # For loading he5 files"
   ]
  },
  {
   "cell_type": "markdown",
   "metadata": {},
   "source": [
    "### Define a filedump function for he5 files."
   ]
  },
  {
   "cell_type": "code",
   "execution_count": 3,
   "metadata": {},
   "outputs": [],
   "source": [
    "def h5filedump(filename):\n",
    "    import subprocess\n",
    "    cmd = 'h5dump -n ' + filename\n",
    "    # returns output as byte string\n",
    "    shell_process = subprocess.Popen(cmd, shell=True, stdout=subprocess.PIPE)\n",
    "    # convert to string\n",
    "    subprocess_return = shell_process.stdout.read().decode('utf8').strip()\n",
    "    # Human readable\n",
    "    mystr = subprocess_return.split(sep='\\n')\n",
    "    return(mystr)"
   ]
  },
  {
   "cell_type": "markdown",
   "metadata": {},
   "source": [
    "### Define the directories and file of interest for your results."
   ]
  },
  {
   "cell_type": "code",
   "execution_count": 7,
   "metadata": {},
   "outputs": [],
   "source": [
    "result_dir = Path(\"../../data\")\n",
    "file = \"MOP03JM-201801-L3V95.6.3.he5\"\n",
    "file_to_open = result_dir / file"
   ]
  },
  {
   "cell_type": "markdown",
   "metadata": {},
   "source": [
    "### Load file"
   ]
  },
  {
   "cell_type": "code",
   "execution_count": 8,
   "metadata": {},
   "outputs": [],
   "source": [
    "# Currently does not work\n",
    "#he5_load = xr.open_dataset(file,engine='h5netcdf')"
   ]
  },
  {
   "cell_type": "code",
   "execution_count": 11,
   "metadata": {},
   "outputs": [],
   "source": [
    "he5_load = h5py.File(file_to_open, mode='r')"
   ]
  },
  {
   "cell_type": "markdown",
   "metadata": {},
   "source": [
    "### Extract dataset of choice"
   ]
  },
  {
   "cell_type": "code",
   "execution_count": 10,
   "metadata": {},
   "outputs": [
    {
     "data": {
      "text/plain": [
       "['']"
      ]
     },
     "execution_count": 10,
     "metadata": {},
     "output_type": "execute_result"
    }
   ],
   "source": [
    "# Uncomment below to see location of variables\n",
    "#h5filedump(file)"
   ]
  },
  {
   "cell_type": "code",
   "execution_count": null,
   "metadata": {},
   "outputs": [],
   "source": [
    "# load the data\n",
    "dataset = he5_load[\"/HDFEOS/GRIDS/MOP03/Data Fields/RetrievedCOTotalColumnDay\"][:]\n",
    "lat = he5_load[\"/HDFEOS/GRIDS/MOP03/Data Fields/Latitude\"][:]\n",
    "lon = he5_load[\"/HDFEOS/GRIDS/MOP03/Data Fields/Longitude\"][:]\n",
    "\n",
    "# create xarray DataArray\n",
    "dataset_new = xr.DataArray(dataset, dims=[\"lon\",\"lat\"], coords=[lon,lat])\n",
    "\n",
    "# missing value -> nan\n",
    "ds_masked = dataset_new.where(dataset_new != -9999.)\n",
    "\n",
    "print(ds_masked)"
   ]
  },
  {
   "cell_type": "markdown",
   "metadata": {},
   "source": [
    "### Plot the value over the globe."
   ]
  },
  {
   "cell_type": "code",
   "execution_count": null,
   "metadata": {},
   "outputs": [],
   "source": [
    "plt.figure(figsize=(20,8))\n",
    "\n",
    "#Define projection\n",
    "ax = plt.axes(projection=ccrs.PlateCarree())\n",
    "\n",
    "#define contour levels\n",
    "clev = np.arange(0.5, 3.2, 0.1)\n",
    "\n",
    "#plot the data\n",
    "plt.contourf(lon, lat, ds_masked.transpose()/1e18,clev,cmap='Spectral_r',extend='both')\n",
    "\n",
    "# add coastlines\n",
    "ax.add_feature(cfeature.COASTLINE)\n",
    "\n",
    "#add lat lon grids\n",
    "gl = ax.gridlines(draw_labels=True, color='grey', alpha=0.8, linestyle='--')\n",
    "gl.xlabels_top = False\n",
    "gl.ylabels_right = False\n",
    "\n",
    "# Titles\n",
    "# Main\n",
    "plt.title(\"Global map of MOPITT column CO, January 2018\",fontsize=18)\n",
    "\n",
    "# y-axis\n",
    "ax.text(-0.04, 0.5, 'Latitude', va='bottom', ha='center',\n",
    "        rotation='vertical', rotation_mode='anchor',\n",
    "        transform=ax.transAxes)\n",
    "# x-axis\n",
    "ax.text(0.5, -0.08, 'Longitude', va='bottom', ha='center',\n",
    "        rotation='horizontal', rotation_mode='anchor',\n",
    "        transform=ax.transAxes)\n",
    "# legend\n",
    "ax.text(1.15, 0.5, 'CO (x 10$^{18}$ molec/cm$^{2}$)', va='bottom', ha='center',\n",
    "        rotation='vertical', rotation_mode='anchor',\n",
    "        transform=ax.transAxes)\n",
    "\n",
    "plt.colorbar()\n",
    "plt.show() "
   ]
  },
  {
   "cell_type": "code",
   "execution_count": null,
   "metadata": {},
   "outputs": [],
   "source": []
  }
 ],
 "metadata": {
  "kernelspec": {
   "display_name": "Python 3",
   "language": "python",
   "name": "python3"
  },
  "language_info": {
   "codemirror_mode": {
    "name": "ipython",
    "version": 3
   },
   "file_extension": ".py",
   "mimetype": "text/x-python",
   "name": "python",
   "nbconvert_exporter": "python",
   "pygments_lexer": "ipython3",
   "version": "3.7.6"
  }
 },
 "nbformat": 4,
 "nbformat_minor": 4
}
