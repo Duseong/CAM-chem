{
 "cells": [
  {
   "cell_type": "markdown",
   "metadata": {},
   "source": [
    "# Timeseries - customize"
   ]
  },
  {
   "cell_type": "code",
   "execution_count": null,
   "metadata": {},
   "outputs": [],
   "source": [
    "# By line: RRB 2020-07-29\n",
    "# Script aims to:\n",
    "# - Load multiple netCDF files\n",
    "# - Extract one variable: CO\n",
    "# - Choose a specific location from model grid\n",
    "# - Plot timeseries\n",
    "# - Customize visualization"
   ]
  },
  {
   "cell_type": "markdown",
   "metadata": {},
   "source": [
    "### Load python packages"
   ]
  },
  {
   "cell_type": "code",
   "execution_count": 1,
   "metadata": {},
   "outputs": [],
   "source": [
    "import pandas as pd\n",
    "from pandas.tseries.offsets import DateOffset\n",
    "import xarray as xr\n",
    "import matplotlib.pyplot as plt\n",
    "import numpy as np\n",
    "from scipy.interpolate import griddata\n",
    "import datetime"
   ]
  },
  {
   "cell_type": "markdown",
   "metadata": {},
   "source": [
    "### Create reusable functions"
   ]
  },
  {
   "cell_type": "code",
   "execution_count": 2,
   "metadata": {},
   "outputs": [],
   "source": [
    "# Find nearest index\n",
    "def find_index(array,x):\n",
    "    idx = np.argmin(np.abs(array-x))\n",
    "    return idx"
   ]
  },
  {
   "cell_type": "markdown",
   "metadata": {},
   "source": [
    "### Load model Data:\n",
    "Define the directories and file of interest for your results."
   ]
  },
  {
   "cell_type": "code",
   "execution_count": 3,
   "metadata": {},
   "outputs": [],
   "source": [
    "[1]: result_dir = \"/home/buchholz/Documents/code_database/untracked/my-notebook/Ivan/\"\n",
    "   ...: files_to_open = \"CAM_chem_merra2_FCSD_1deg_QFEDCMIP_Boulder_2010_2018_nh3_co_proc.nc\"\n",
    "   ...: #the netcdf files will be held in an xarray dataset named 'nc_load' and can be referenced later in the notebook\n",
    "   ...: nc_load1 = xr.open_dataset(result_dir+files_to_open)\n",
    "   ...: #to see what the netCDF file contains, just call the variable you read it into\n",
    "   ...: #nc_load1"
   ]
  },
  {
   "cell_type": "code",
   "execution_count": null,
   "metadata": {},
   "outputs": [],
   "source": [
    "files_to_open = \"CAM_chem_merra2_FCSD_1deg_QFEDCAMS_Boulder_2010_2018_nh3_co_proc.nc\"\n",
    "   ...: #the netcdf files will be held in an xarray dataset named 'nc_load' and can be referenced later in the notebook\n",
    "   ...: nc_load2 = xr.open_dataset(result_dir+files_to_open)\n",
    "   ...: #to see what the netCDF file contains, just call the variable you read it into\n",
    "   ...: #nc_load2"
   ]
  },
  {
   "cell_type": "code",
   "execution_count": null,
   "metadata": {},
   "outputs": [],
   "source": [
    "files_to_open = \"CAM_chem_merra2_FCSD_1deg_FINNCMIP_Boulder_2010_2019_nh3_co_proc.nc\"\n",
    "   ...: #the netcdf files will be held in an xarray dataset named 'nc_load' and can be referenced later in the notebook\n",
    "   ...: nc_load3 = xr.open_dataset(result_dir+files_to_open)\n",
    "   ...: #to see what the netCDF file contains, just call the variable you read it into\n",
    "   ...: #nc_load3"
   ]
  },
  {
   "cell_type": "markdown",
   "metadata": {},
   "source": [
    "### Extract the variable at the time and level and location of choice"
   ]
  },
  {
   "cell_type": "code",
   "execution_count": 4,
   "metadata": {},
   "outputs": [
    {
     "name": "stdout",
     "output_type": "stream",
     "text": [
      "file time:  2018-02-01T00:00:00.000000000 ---> converted time:  2018-01-15 00:00:00\n"
     ]
    }
   ],
   "source": [
    "#extract variable\n",
    "#WD_NH3\n",
    "select_species = 'CO'\n",
    "var_cmip = nc_load1[select_species]\n",
    "var_cams = nc_load2[select_species]\n",
    "var_finn = nc_load3[select_species]\n",
    "\n",
    "units = var_cams.units\n",
    "\n",
    " #extract grid variables\n",
    " lat = nc_load1['lat']\n",
    " lon = nc_load1['lon']\n",
    "   ...: time_cmip = nc_load1['time']\n",
    "   ...: time_cams = nc_load2['time']\n",
    "   ...: time_finn = nc_load3['time']\n",
    "   ...:\n",
    "   ...: # CAM-chem writes the month average at midnight - i.e. the start of the next month.\n",
    "   ...: # Reconfigure the time variable\n",
    "   ...: time2_cmip = pd.to_datetime(time_cmip.values,format='%Y-%m-%dT%H:%M:%S')+DateOffset(months=-1,days=+14)\n",
    "   ...: time2_cams = pd.to_datetime(time_cams.values,format='%Y-%m-%dT%H:%M:%S')+DateOffset(months=-1,days=+14)\n",
    "   ...: time2_finn = pd.to_datetime(time_finn.values,format='%Y-%m-%dT%H:%M:%S')+DateOffset(months=-1,days=+14)\n",
    "   ...:\n",
    "   ...:\n",
    "   ...: #var_cams['time'] = time2_cams\n",
    "   ...: #var_cmip['time'] = time2_cmip\n",
    "   ...: #var_finn['time'] = time2_finn\n",
    "   ...:\n",
    "   ...: print(\"file time: \", time_cmip[0].values, \"---> converted time: \", time2_cmip[0])"
   ]
  },
  {
   "cell_type": "markdown",
   "metadata": {},
   "source": [
    "### Select and extract the location."
   ]
  },
  {
   "cell_type": "code",
   "execution_count": 5,
   "metadata": {},
   "outputs": [
    {
     "name": "stdout",
     "output_type": "stream",
     "text": [
      "Boulder  latitude:  40.015 ---> nearest:  40.0523560209424\n",
      "Boulder  longitude:  254.7295 ---> nearest:  255.0\n"
     ]
    }
   ],
   "source": [
    "In [1]: name_select = \"Boulder\"\n",
    "   ...: lat_select = 40.0150n [1]: result_dir = \"/home/buchholz/Documents/code_database/untracked/my-notebook/Ivan/\"\n",
    "   ...: files_to_open = \"CAM_chem_merra2_FCSD_1deg_QFEDCMIP_Boulder_2010_2018_nh3_co_proc.nc\"\n",
    "   ...: #the netcdf files will be held in an xarray dataset named 'nc_load' and can be referenced later in the notebook\n",
    "   ...: nc_load1 = xr.open_dataset(result_dir+files_to_open)\n",
    "   ...: #to see what the netCDF file contains, just call the variable you read it into\n",
    "   ...: #nc_load1\n",
    "   ...: lon_select = 360-105.2705 # model longitude is from 0 to 360\n",
    "   ...:\n",
    "   ...: lat_i = find_index(lat,lat_select)\n",
    "   ...: lon_i = find_index(lon,lon_select)\n",
    "   ...:\n",
    "   ...: print(name_select, \" latitude: \", lat_select, \"---> nearest: \", lat[lat_i].values)\n",
    "   ...: print(name_select, \" longitude: \", lon_select, \"---> nearest: \", lon[lon_i].values)\n",
    "   ...:\n",
    "   ...: # extract location surface value and convert to ppb\n",
    "   ...: var_cmip_srf = var_cmip.isel(lat=lat_i,lon=lon_i)\n",
    "   ...: var_cams_srf = var_cams.isel(lat=lat_i,lon=lon_i)\n",
    "   ...: var_finn_srf = var_finn.isel(lat=lat_i,lon=lon_i)\n",
    "   ...: print(var_finn_srf)"
   ]
  },
  {
   "cell_type": "code",
   "execution_count": null,
   "metadata": {},
   "outputs": [],
   "source": [
    "#-------------------------------\n",
    "   ...: #CONSTANTS and conversion factor\n",
    "   ...: #-------------------------------\n",
    "   ...: NAv = 6.0221415e+23                       #--- Avogadro's number\n",
    "   ...: g = 9.81                                  #--- m/s - gravity\n",
    "   ...: MWair = 28.94                             #--- g/mol\n",
    "   ...: xp_const = (NAv* 10)/(MWair*g)      #--- scaling factor for turning vmr into pcol\n",
    "   ...:                                           #--- (note 1*e-09 because in ppb)"
   ]
  },
  {
   "cell_type": "code",
   "execution_count": null,
   "metadata": {},
   "outputs": [],
   "source": [
    "# Load values to create true model pressure array\n",
    "   ...: psurf1 = nc_load1['PS'].isel(lat=lat_i,lon=lon_i)\n",
    "   ...: psurf2 = nc_load2['PS'].isel(lat=lat_i,lon=lon_i)\n",
    "   ...: psurf3 = nc_load3['PS'].isel(lat=lat_i,lon=lon_i)\n",
    "   ...:\n",
    "   ...: hyai = nc_load1['hyai']\n",
    "   ...: hybi = nc_load1['hybi']\n",
    "   ...: p0 = nc_load1['P0']\n",
    "   ...: lev = var_finn_srf.coords['lev']\n",
    "   ...: num_lev = lev.shape[0]\n",
    "   ...:\n",
    "   ...: # Initialize pressure edge arrays\n",
    "   ...: mod_press_low1 = xr.zeros_like(var_cmip_srf)\n",
    "   ...: mod_press_top1 = xr.zeros_like(var_cmip_srf)\n",
    "   ...: mod_press_low2 = xr.zeros_like(var_cams_srf)\n",
    "   ...: mod_press_top2 = xr.zeros_like(var_cams_srf)\n",
    "   ...: mod_press_low3 = xr.zeros_like(var_finn_srf)\n",
    "   ...: mod_press_top3 = xr.zeros_like(var_finn_srf)\n",
    "   ...:\n",
    "   ...: # Calculate pressure edge arrays\n",
    "   ...: # CAM-chem layer indices start at the top and end at the bottom\n",
    "   ...: for i in range(num_lev):\n",
    "   ...:     mod_press_top1[:,i] = hyai[i]*p0 + hybi[i]*psurf1\n",
    "   ...:     mod_press_low1[:,i] = hyai[i+1]*p0 + hybi[i+1]*psurf1\n",
    "   ...:     mod_press_top2[:,i] = hyai[i]*p0 + hybi[i]*psurf2\n",
    "   ...:     mod_press_low2[:,i] = hyai[i+1]*p0 + hybi[i+1]*psurf2\n",
    "   ...:     mod_press_top3[:,i] = hyai[i]*p0 + hybi[i]*psurf3\n",
    "   ...:     mod_press_low3[:,i] = hyai[i+1]*p0 + hybi[i+1]*psurf3\n",
    "   ...:\n",
    "   ...: # Delta P in hPa\n",
    "   ...: mod_deltap1 = (mod_press_low1 - mod_press_top1)/100\n",
    "   ...: mod_deltap2 = (mod_press_low2 - mod_press_top2)/100\n",
    "   ...: mod_deltap3 = (mod_press_low3 - mod_press_top3)/100"
   ]
  },
  {
   "cell_type": "code",
   "execution_count": null,
   "metadata": {},
   "outputs": [],
   "source": [
    "var_cmip_tcol = xr.dot(mod_deltap1, xp_const*var_cmip_srf, dims=[\"lev\"])\n",
    "   ...: var_cams_tcol = xr.dot(mod_deltap2, xp_const*var_cams_srf, dims=[\"lev\"])\n",
    "   ...: var_finn_tcol = xr.dot(mod_deltap3, xp_const*var_finn_srf, dims=[\"lev\"])\n",
    "   ...:\n",
    "   ...: var_cams_tcol['time'] = time2_cams\n",
    "   ...: var_cmip_tcol ['time'] = time2_cmip\n",
    "   ...: var_finn_tcol['time'] = time2_finn"
   ]
  },
  {
   "cell_type": "markdown",
   "metadata": {},
   "source": [
    "### Plot the value versus time."
   ]
  },
  {
   "cell_type": "code",
   "execution_count": 122,
   "metadata": {},
   "outputs": [
    {
     "data": {
      "image/png": "[encoded data removed]",
      "text/plain": [
       "<Figure size 1440x720 with 1 Axes>"
      ]
     },
     "metadata": {},
     "output_type": "display_data"
    }
   ],
   "source": [
    "plt.figure(figsize=(20,10),facecolor='whitesmoke')\n",
    "   ...: ax = plt.axes(facecolor='whitesmoke')\n",
    "   ...:\n",
    "   ...: plt.plot(time2_cmip, var_cmip_tcol, '-o', label='CAM-chem '+select_species+': QFED/CMIP',\n",
    "   ...:          color='darkslateblue',\n",
    "   ...:          markersize=12, linewidth=5,\n",
    "   ...:          markerfacecolor='darkslateblue',\n",
    "   ...:          markeredgecolor='grey',\n",
    "   ...:          markeredgewidth=1)\n",
    "   ...:\n",
    "   ...: plt.plot(time2_cams, var_cams_tcol, '-o', label='CAM-chem '+select_species+': QFED/CAMS',\n",
    "   ...:          color='red',\n",
    "   ...:          markersize=12, linewidth=5,\n",
    "   ...:          markerfacecolor='red',\n",
    "   ...:          markeredgecolor='grey',\n",
    "   ...:          markeredgewidth=1)\n",
    "   ...:\n",
    "   ...: plt.plot(time2_finn, var_finn_tcol, '-o', label='CAM-chem '+select_species+': FINN/CMIP',\n",
    "   ...:          color='darkgreen',\n",
    "   ...:          markersize=12, linewidth=5,\n",
    "   ...:          markerfacecolor='darkgreen',\n",
    "   ...:          markeredgecolor='grey',\n",
    "   ...:          markeredgewidth=1)\n",
    "   ...:\n",
    "   ...: #resources: named colors - https://matplotlib.org/examples/color/named_colors.html\n",
    "   ...: #           default markers and lines list - https://matplotlib.org/2.1.2/api/_as_gen/matplotlib.pyplot.plot.html\n",
    "   ...:\n",
    "   ...: # axes format\n",
    "   ...: plt.xticks(fontsize=18)\n",
    "   ...: #ax.set_ylim(90, 200)\n",
    "   ...: #plt.yticks(np.arange(100, 220, step=20), fontsize=18)\n",
    "   ...:\n",
    "   ...: # tickmarks direction\n",
    "   ...: ax.tick_params(direction='in', length=8, width=3)\n",
    "   ...:\n",
    "   ...: # adjust border\n",
    "   ...: ax.spines[\"left\"].set_linewidth(2.5)\n",
    "   ...: ax.spines[\"bottom\"].set_linewidth(2.5)\n",
    "   ...: ax.spines[\"right\"].set_visible(False)\n",
    "   ...: ax.spines[\"top\"].set_visible(False)\n",
    "\n",
    "# titles\n",
    "   ...: plt.title('Monthly '+select_species + ' ('+var_cmip_srf.long_name+') at ' + name_select,fontsize=24)\n",
    "   ...: plt.xlabel('Time',fontsize=18)\n",
    "   ...: #plt.ylabel(select_species+' '+units,fontsize=18)\n",
    "   ...: plt.ylabel(select_species+' column',fontsize=18)\n",
    "   ...:\n",
    "   ...:\n",
    "   ...: # legend\n",
    "   ...: plt.legend(bbox_to_anchor=(0.93, 0.88),loc='lower right')\n",
    "   ...:\n",
    "   ...: # write to show the whole plot\n",
    "   ...: plt.show()"
   ]
  },
  {
   "cell_type": "code",
   "execution_count": null,
   "metadata": {},
   "outputs": [],
   "source": [
    "month_length = var_cams_srf.time.dt.days_in_month\n",
    "   ...: #cams_yearly = var_cams_srf.groupby('time.year').mean('time')\n",
    "   ...: #cmip_yearly = var_cmip_srf.groupby('time.year').mean('time')\n",
    "   ...: #finn_yearly = var_finn_srf.groupby('time.year').mean('time')\n",
    "   ...: cams_yearly = var_cams_tcol.groupby('time.year').mean('time')\n",
    "   ...: cmip_yearly = var_cmip_tcol.groupby('time.year').mean('time')\n",
    "   ...: finn_yearly = var_finn_tcol.groupby('time.year').mean('time')"
   ]
  },
  {
   "cell_type": "code",
   "execution_count": null,
   "metadata": {},
   "outputs": [],
   "source": [
    "plt.figure(figsize=(20,10),facecolor='whitesmoke')\n",
    "   ...: ax = plt.axes(facecolor='whitesmoke')\n",
    "   ...:\n",
    "   ...: plt.plot(cmip_yearly.year.values[1:], cmip_yearly[1:], '-o', label='CAM-chem '+select_species+': QFED/CMIP',\n",
    "   ...:          color='darkslateblue',\n",
    "   ...:          markersize=12, linewidth=5,\n",
    "   ...:          markerfacecolor='darkslateblue',\n",
    "   ...:          markeredgecolor='grey',\n",
    "   ...:          markeredgewidth=1)\n",
    "   ...:\n",
    "   ...: plt.plot(cams_yearly.year.values, cams_yearly, '-o', label='CAM-chem '+select_species+': QFED/CAMS',\n",
    "   ...:          color='red',\n",
    "   ...:          markersize=12, linewidth=5,\n",
    "   ...:          markerfacecolor='red',\n",
    "   ...:          markeredgecolor='grey',\n",
    "   ...:          markeredgewidth=1)\n",
    "   ...:\n",
    "   ...: plt.plot(finn_yearly.year.values[1:], finn_yearly[1:], '-o', label='CAM-chem '+select_species+': FINN/CMIP',\n",
    "   ...:          color='darkgreen',\n",
    "   ...:          markersize=12, linewidth=5,\n",
    "   ...:          markerfacecolor='darkgreen',\n",
    "   ...:          markeredgecolor='grey',\n",
    "   ...:          markeredgewidth=1)\n",
    "   ...:\n",
    "   ...:\n",
    "   ...: #resources: named colors - https://matplotlib.org/examples/color/named_colors.html\n",
    "   ...: #           default markers and lines list - https://matplotlib.org/2.1.2/api/_as_gen/matplotlib.pyplot.plot.html\n",
    "   ...:\n",
    "   ...: # axes format\n",
    "   ...: plt.xticks(fontsize=18)\n",
    "   ...: #ax.set_ylim(90, 200)\n",
    "   ...: #plt.yticks(np.arange(100, 220, step=20), fontsize=18)\n",
    "   ...:\n",
    "   ...: # tickmarks direction\n",
    "   ...: ax.tick_params(direction='in', length=8, width=3)\n",
    "   ...:\n",
    "   ...: # adjust border\n",
    "   ...: ax.spines[\"left\"].set_linewidth(2.5)\n",
    "   ...: ax.spines[\"bottom\"].set_linewidth(2.5)\n",
    "   ...: ax.spines[\"right\"].set_visible(False)\n",
    "   ...: ax.spines[\"top\"].set_visible(False)\n",
    "    \n",
    "    # titles\n",
    "   ...: plt.title('Yearly '+select_species + ' ('+var_cmip_srf.long_name+') at ' + name_select,fontsize=24)\n",
    "   ...: plt.xlabel('Time',fontsize=18)\n",
    "   ...: #plt.ylabel(select_species+' '+units,fontsize=18)\n",
    "   ...: plt.ylabel(select_species+' column',fontsize=18)\n",
    "   ...:\n",
    "   ...:\n",
    "   ...: # legend\n",
    "   ...: plt.legend(bbox_to_anchor=(0.23, 0.08),loc='lower right')\n",
    "   ...:\n",
    "   ...: # write to show the whole plot\n",
    "   ...: plt.show()\n",
    "    "
   ]
  },
  {
   "cell_type": "code",
   "execution_count": null,
   "metadata": {},
   "outputs": [],
   "source": [
    "#cams_clim = var_cams_srf.groupby('time.month').mean('time')\n",
    "   ...: #cmip_clim = var_cmip_srf.groupby('time.month').mean('time')\n",
    "   ...: #finn_clim = var_finn_srf.groupby('time.month').mean('time')\n",
    "   ...:\n",
    "   ...: #cmip_clim_sd = var_cmip_srf.groupby('time.month').std('time')\n",
    "   ...: #cams_clim_sd = var_cams_srf.groupby('time.month').std('time')\n",
    "   ...: #finn_clim_sd = var_finn_srf.groupby('time.month').std('time')\n",
    "   ...:\n",
    "   ...: cams_clim = var_cams_tcol.groupby('time.month').mean('time')\n",
    "   ...: cmip_clim = var_cmip_tcol.groupby('time.month').mean('time')\n",
    "   ...: finn_clim = var_finn_tcol.groupby('time.month').mean('time')\n",
    "   ...:\n",
    "   ...: cmip_clim_sd = var_cmip_tcol.groupby('time.month').std('time')\n",
    "   ...: cams_clim_sd = var_cams_tcol.groupby('time.month').std('time')\n",
    "   ...: finn_clim_sd = var_finn_tcol.groupby('time.month').std('time')"
   ]
  },
  {
   "cell_type": "code",
   "execution_count": null,
   "metadata": {},
   "outputs": [],
   "source": [
    "plt.figure(figsize=(20,10),facecolor='whitesmoke')\n",
    "   ...: ax = plt.axes(facecolor='whitesmoke')\n",
    "   ...:\n",
    "   ...: plt.plot(cmip_clim.month.values, cmip_clim,\n",
    "   ...:          '-o', label='CAM-chem '+select_species+': QFED/CMIP',\n",
    "   ...:          color='darkslateblue',\n",
    "   ...:          markersize=12, linewidth=5,\n",
    "   ...:          markerfacecolor='darkslateblue',\n",
    "   ...:          markeredgecolor='grey',\n",
    "   ...:          markeredgewidth=1)\n",
    "   ...:\n",
    "   ...: plt.errorbar(cmip_clim.month.values, cmip_clim, cmip_clim_sd,color='darkslateblue')\n",
    "   ...:\n",
    "   ...: plt.plot(cams_clim.month.values, cams_clim, '-o', label='CAM-chem '+select_species+': QFED/CAMS',\n",
    "   ...:          color='red',\n",
    "   ...:          markersize=12, linewidth=5,\n",
    "   ...:          markerfacecolor='red',\n",
    "   ...:          markeredgecolor='grey',\n",
    "   ...:          markeredgewidth=1)\n",
    "   ...:\n",
    "   ...: plt.errorbar(cams_clim.month.values, cams_clim, cams_clim_sd,color='red')\n",
    "   ...:\n",
    "   ...: plt.plot(finn_clim.month.values, finn_clim, '-o', label='CAM-chem '+select_species+': FINN/CMIP',\n",
    "   ...:          color='darkgreen',\n",
    "   ...:          markersize=12, linewidth=5,\n",
    "   ...:          markerfacecolor='darkgreen',\n",
    "   ...:          markeredgecolor='grey',\n",
    "   ...:          markeredgewidth=1)\n",
    "   ...:\n",
    "   ...: plt.errorbar(finn_clim.month.values, finn_clim, finn_clim_sd,color='darkgreen')\n",
    "   ...:\n",
    "   ...:\n",
    "   ...: #resources: named colors - https://matplotlib.org/examples/color/named_colors.html\n",
    "   ...: #           default markers and lines list - https://matplotlib.org/2.1.2/api/_as_gen/matplotlib.pyplot.plot.html\n",
    "   ...:\n",
    "   ...: # axes format\n",
    "   ...: plt.xticks(fontsize=18)\n",
    "   ...: #ax.set_ylim(90, 200)\n",
    "   ...: #plt.yticks(np.arange(100, 220, step=20), fontsize=18)\n",
    "   ...:\n",
    "   ...: # tickmarks direction\n",
    "    ax.tick_params(direction='in', length=8, width=3)\n",
    "   ...:\n",
    "   ...: # adjust border\n",
    "   ...: ax.spines[\"left\"].set_linewidth(2.5)\n",
    "   ...: ax.spines[\"bottom\"].set_linewidth(2.5)\n",
    "   ...: ax.spines[\"right\"].set_visible(False)\n",
    "   ...: ax.spines[\"top\"].set_visible(False)\n",
    "   ...:\n",
    "   ...: # titles\n",
    "   ...: plt.title('Climatological month average '+select_species + ' ('+var_cmip_srf.long_name+') at ' + name_select,fontsize=2\n",
    "   ...: 4)\n",
    "   ...: plt.xlabel('Time',fontsize=18)\n",
    "   ...: #plt.ylabel(select_species+' '+units,fontsize=18)\n",
    "   ...: plt.ylabel(select_species+' column',fontsize=18)\n",
    "   ...:\n",
    "   ...:\n",
    "   ...: # legend\n",
    "   ...: plt.legend(bbox_to_anchor=(0.93, 0.88),loc='lower right')\n",
    "   ...:\n",
    "   ...: # write to show the whole plot\n",
    "   ...: plt.show()"
   ]
  }
 ],
 "metadata": {
  "kernelspec": {
   "display_name": "Python 3",
   "language": "python",
   "name": "python3"
  },
  "language_info": {
   "codemirror_mode": {
    "name": "ipython",
    "version": 3
   },
   "file_extension": ".py",
   "mimetype": "text/x-python",
   "name": "python",
   "nbconvert_exporter": "python",
   "pygments_lexer": "ipython3",
   "version": "3.7.6"
  }
 },
 "nbformat": 4,
 "nbformat_minor": 4
}
