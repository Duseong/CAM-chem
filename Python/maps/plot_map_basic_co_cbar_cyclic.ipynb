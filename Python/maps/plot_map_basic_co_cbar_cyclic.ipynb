{
 "cells": [
  {
   "cell_type": "markdown",
   "metadata": {},
   "source": [
    "# Example Map Plotting"
   ]
  },
  {
   "cell_type": "code",
   "execution_count": null,
   "metadata": {},
   "outputs": [],
   "source": [
    "# By line: RRB 2020-07-20\n",
    "# Script aims to:\n",
    "# - Load a netCDF file\n",
    "# - Extract one variable: CO\n",
    "# - Create contour plot of variable as world map with coastlines\n",
    "# - Add cyclic point\n",
    "# - Customize contours and colorbar\n",
    "# - Add axes labels\n",
    "# - Add grid lines"
   ]
  },
  {
   "cell_type": "markdown",
   "metadata": {},
   "source": [
    "### At the start of a Jupyter notebook you need to import all modules that you will use."
   ]
  },
  {
   "cell_type": "code",
   "execution_count": 1,
   "metadata": {},
   "outputs": [],
   "source": [
    "import matplotlib.pyplot as plt\n",
    "import cartopy.crs as ccrs                 # For plotting maps\n",
    "import cartopy.feature as cfeature         # For plotting maps\n",
    "from cartopy.util import add_cyclic_point  # For plotting maps\n",
    "from pathlib import Path                   # System agnostic paths\n",
    "import xarray as xr                        # For loading the data arrays\n",
    "import numpy as np                         # For array creation and calculations"
   ]
  },
  {
   "cell_type": "markdown",
   "metadata": {},
   "source": [
    "### Define the directories and file of interest for your results."
   ]
  },
  {
   "cell_type": "code",
   "execution_count": 5,
   "metadata": {
    "scrolled": false
   },
   "outputs": [],
   "source": [
    "result_dir = Path(\"/home/buchholz/Documents/code_database/untracked/my-notebook/CAM_Chem_examples\")\n",
    "file = \"CAM_chem_merra2_FCSD_1deg_QFED_monthoutput_CO_201801.nc\"\n",
    "file_to_open = result_dir / file\n",
    "#the netcdf file is now held in an xarray dataset named 'nc_load' and can be referenced later in the notebook\n",
    "nc_load = xr.open_dataset(file_to_open)\n",
    "#to see what the netCDF file contains, uncomment below\n",
    "#nc_load"
   ]
  },
  {
   "cell_type": "markdown",
   "metadata": {},
   "source": [
    "### Extract the variable of choice at the time and level of choice"
   ]
  },
  {
   "cell_type": "code",
   "execution_count": null,
   "metadata": {
    "scrolled": true
   },
   "outputs": [],
   "source": [
    "#extract variable\n",
    "var_sel = nc_load['CO']\n",
    "#print(var_sel)\n",
    "\n",
    "#select the surface level at a specific time and convert to ppbv from vmr\n",
    "#select the surface level for an average over three times and convert to ppbv from vmr\n",
    "var_srf = var_sel.isel(time=0, lev=55)\n",
    "var_srf = var_srf*1e09 # 10-9 to ppb\n",
    "print(var_srf.shape)\n",
    "\n",
    "#extract grid variables\n",
    "lat = var_sel.coords['lat']\n",
    "lon = var_sel.coords['lon']"
   ]
  },
  {
   "cell_type": "markdown",
   "metadata": {},
   "source": [
    "### Add cyclic point to avoid white stripe at lon=0."
   ]
  },
  {
   "cell_type": "code",
   "execution_count": null,
   "metadata": {},
   "outputs": [],
   "source": [
    "var_srf_cyc, lon_cyc = add_cyclic_point(var_srf, coord=lon) "
   ]
  },
  {
   "cell_type": "markdown",
   "metadata": {},
   "source": [
    "### Plot the value over the globe."
   ]
  },
  {
   "cell_type": "code",
   "execution_count": null,
   "metadata": {},
   "outputs": [],
   "source": [
    "plt.figure(figsize=(20,8))\n",
    "\n",
    "#Define projection\n",
    "ax = plt.axes(projection=ccrs.PlateCarree())\n",
    "\n",
    "#define contour levels\n",
    "clev = np.arange(30, 500, 10)\n",
    "\n",
    "#plot the data\n",
    "plt.contourf(lon_cyc,lat,var_srf_cyc,clev,cmap='Spectral_r',extend='both')\n",
    "\n",
    "# add coastlines\n",
    "ax.add_feature(cfeature.COASTLINE)\n",
    "\n",
    "#add lat lon grids\n",
    "gl = ax.gridlines(draw_labels=True, color='grey', alpha=0.8, linestyle='--')\n",
    "gl.xlabels_top = False\n",
    "gl.ylabels_right = False\n",
    "\n",
    "# Titles\n",
    "# Main\n",
    "plt.title(\"Global map of CAM-chem CO, January 2018\",fontsize=18)\n",
    "\n",
    "# y-axis\n",
    "ax.text(-0.04, 0.5, 'Latitude', va='bottom', ha='center',\n",
    "        rotation='vertical', rotation_mode='anchor',\n",
    "        transform=ax.transAxes)\n",
    "# x-axis\n",
    "ax.text(0.5, -0.08, 'Longitude', va='bottom', ha='center',\n",
    "        rotation='horizontal', rotation_mode='anchor',\n",
    "        transform=ax.transAxes)\n",
    "# legend\n",
    "ax.text(1.15, 0.5, 'CO (ppb)', va='bottom', ha='center',\n",
    "        rotation='vertical', rotation_mode='anchor',\n",
    "        transform=ax.transAxes)\n",
    "\n",
    "plt.colorbar()\n",
    "plt.show() "
   ]
  }
 ],
 "metadata": {
  "kernelspec": {
   "display_name": "Python 3",
   "language": "python",
   "name": "python3"
  },
  "language_info": {
   "codemirror_mode": {
    "name": "ipython",
    "version": 3
   },
   "file_extension": ".py",
   "mimetype": "text/x-python",
   "name": "python",
   "nbconvert_exporter": "python",
   "pygments_lexer": "ipython3",
   "version": "3.7.6"
  }
 },
 "nbformat": 4,
 "nbformat_minor": 4
}
