{
 "cells": [
  {
   "cell_type": "markdown",
   "metadata": {},
   "source": [
    "# Plot Tropomi data over CONUS"
   ]
  },
  {
   "cell_type": "code",
   "execution_count": 1,
   "metadata": {
    "scrolled": true
   },
   "outputs": [],
   "source": [
    "# python notebook is derived from tropomi.py\n",
    "# Python script to create maps of TROPOMI satellite data over CONUS.\n",
    "# Derived from plot-geos5.py\n",
    "#\n",
    "# Author: Carl Drews, Atmospheric Chemistry Observations & Modeling\n",
    "# Created: May 2020\n",
    "# Copyright 2020 by the University Corporation for Atmospheric Research\n"
   ]
  },
  {
   "cell_type": "markdown",
   "metadata": {},
   "source": [
    "### Import packages"
   ]
  },
  {
   "cell_type": "code",
   "execution_count": 5,
   "metadata": {},
   "outputs": [],
   "source": [
    "import os\n",
    "import warnings\n",
    "import matplotlib\n",
    "import numpy\n",
    "import math\n",
    "import sys\n",
    "import traceback\n",
    "import datetime\n",
    "import calendar\n",
    "import pandas\n",
    "import glob\n",
    "import cartopy"
   ]
  },
  {
   "cell_type": "markdown",
   "metadata": {},
   "source": [
    "### Define functions"
   ]
  },
  {
   "cell_type": "code",
   "execution_count": 2,
   "metadata": {},
   "outputs": [],
   "source": [
    "# Return list of geometries of the States of Mexico.\n",
    "def mexicanStates():\n",
    "   countryName = \"Mexico\"\n",
    "\n",
    "   # download from: https://www.naturalearthdata.com/downloads/10m-cultural-vectors/\n",
    "   shapeFilename = \"./ne_10m_admin_1_states_provinces/ne_10m_admin_1_states_provinces.shp\"\n",
    "   progress(\"Reading states provinces from {}\\n\".format(shapeFilename))\n",
    "   reader = cartopy.io.shapereader.Reader(shapeFilename)\n",
    "   statesProvinces = reader.records()\n",
    "\n",
    "   progress(\"States of {}: \".format(countryName))\n",
    "   mexicoStates = []\n",
    "   for stateProvince in statesProvinces:\n",
    "      if (stateProvince.attributes[\"admin\"] == countryName):\n",
    "         progress(\"{}, \".format(stateProvince.attributes[\"name\"]))\n",
    "         mexicoStates.append(stateProvince.geometry)\n",
    "\n",
    "   progress(\"\\n\")\n",
    "   return(mexicoStates)\n"
   ]
  },
  {
   "cell_type": "markdown",
   "metadata": {},
   "source": [
    "### Import Tropomi data"
   ]
  },
  {
   "cell_type": "code",
   "execution_count": null,
   "metadata": {},
   "outputs": [],
   "source": []
  },
  {
   "cell_type": "markdown",
   "metadata": {},
   "source": [
    "### Plot Lambert-Conformal map over CONUS"
   ]
  },
  {
   "cell_type": "code",
   "execution_count": null,
   "metadata": {},
   "outputs": [],
   "source": []
  }
 ],
 "metadata": {
  "kernelspec": {
   "display_name": "Python 3",
   "language": "python",
   "name": "python3"
  },
  "language_info": {
   "codemirror_mode": {
    "name": "ipython",
    "version": 3
   },
   "file_extension": ".py",
   "mimetype": "text/x-python",
   "name": "python",
   "nbconvert_exporter": "python",
   "pygments_lexer": "ipython3",
   "version": "3.7.6"
  }
 },
 "nbformat": 4,
 "nbformat_minor": 4
}
