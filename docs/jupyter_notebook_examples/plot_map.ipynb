{
 "cells": [
  {
   "cell_type": "markdown",
   "metadata": {},
   "source": [
    "# Example Map Plotting"
   ]
  },
  {
   "cell_type": "markdown",
   "metadata": {},
   "source": [
    "### At the start of a Jupyter notebook you need to import all modules that you will use"
   ]
  },
  {
   "cell_type": "code",
   "execution_count": null,
   "metadata": {},
   "outputs": [],
   "source": [
    "import pandas as pd\n",
    "import xarray as xr\n",
    "import matplotlib.pyplot as plt\n",
    "import numpy as np\n",
    "from scipy.interpolate import griddata\n",
    "import cartopy.crs as ccrs                 # For plotting maps\n",
    "import cartopy.feature as cfeature         # For plotting maps\n",
    "from cartopy.util import add_cyclic_point  # For plotting maps\n",
    "import datetime"
   ]
  },
  {
   "cell_type": "markdown",
   "metadata": {},
   "source": [
    "### Define the directories and file of interest for your results. This can be shortened to less lines as well."
   ]
  },
  {
   "cell_type": "code",
   "execution_count": null,
   "metadata": {},
   "outputs": [],
   "source": [
    "result_dir = \"https://github.com/NCAR/CAM-chem/tree/master/docs/data\"\n",
    "file = \"CAM_chem_merra2_FCSD_1deg_QFED_monthoutput_201801.nc\"\n",
    "#the netcdf file is now held in an xarray dataset named 'nc' and can be referenced later in the notebook\n",
    "nc_load = xr.open_dataset(result_dir+file)\n",
    "#to see what the netCDF file contains, just call the variable you read it into\n",
    "nc_load"
   ]
  },
  {
   "cell_type": "markdown",
   "metadata": {},
   "source": [
    "### Extract the variable of choice at the time and level of choice"
   ]
  },
  {
   "cell_type": "code",
   "execution_count": null,
   "metadata": {},
   "outputs": [],
   "source": [
    "#extract grid variables\n",
    "lat = nc_load['lat']\n",
    "lon = nc_load['lon']\n",
    "\n",
    "#extract variable\n",
    "var_sel = nc_load['CO']\n",
    "print(var_sel)\n",
    "\n",
    "#select the surface level at a specific time and convert to ppbv from vmr\n",
    "#var_srf = var_sel.isel(time=0, lev=55)\n",
    "#select the surface level for an average over three times and convert to ppbv from vmr\n",
    "var_srf = var_sel.isel(time=[0,1,2], lev=55)\n",
    "var_srf = var_srf.mean('time')\n",
    "var_srf = var_srf*1e9\n",
    "print(var_srf.shape)"
   ]
  },
  {
   "cell_type": "code",
   "execution_count": null,
   "metadata": {},
   "outputs": [],
   "source": [
    "# Add cyclic point to avoid white line over Africa\n",
    "var_srf_cyc, lon_cyc = add_cyclic_point(var_srf, coord=lon) "
   ]
  },
  {
   "cell_type": "markdown",
   "metadata": {},
   "source": [
    "### Plot the value over a specific region"
   ]
  },
  {
   "cell_type": "code",
   "execution_count": null,
   "metadata": {},
   "outputs": [],
   "source": [
    "plt.figure(figsize=(20,8))\n",
    "\n",
    "#Define projection\n",
    "ax = plt.axes(projection=ccrs.PlateCarree())\n",
    "\n",
    "#define contour levels\n",
    "clev = np.arange(0, 100, 1)\n",
    "\n",
    "#plot the data\n",
    "plt.contourf(lon_cyc,lat,var_srf_cyc,clev,cmap='Spectral_r')\n",
    "\n",
    "# add coastlines\n",
    "ax.add_feature(cfeature.COASTLINE)\n",
    "\n",
    "#add lat lon grids\n",
    "ax.gridlines(draw_labels=True, color='grey', alpha=0.5, linestyle='--')\n",
    "\n",
    "#longitude limits in degrees\n",
    "ax.set_xlim(20,120)\n",
    "#latitude limits in degrees\n",
    "ax.set_ylim(5,60)\n",
    "\n",
    "# Title\n",
    "plt.title(\"CAM-chem 2019 O$_{3}$\")\n",
    "\n",
    "#axes\n",
    "# y-axis\n",
    "ax.text(-0.09, 0.55, 'Latitude', va='bottom', ha='center',\n",
    "        rotation='vertical', rotation_mode='anchor',\n",
    "        transform=ax.transAxes)\n",
    "# x-axis\n",
    "ax.text(0.5, -0.10, 'Longitude', va='bottom', ha='center',\n",
    "        rotation='horizontal', rotation_mode='anchor',\n",
    "        transform=ax.transAxes)\n",
    "# legend\n",
    "ax.text(1.18, 0.5, 'O$_{3}$ (ppb)', va='bottom', ha='center',\n",
    "        rotation='vertical', rotation_mode='anchor',\n",
    "        transform=ax.transAxes)\n",
    "\n",
    "plt.colorbar()\n",
    "plt.show() "
   ]
  },
  {
   "cell_type": "markdown",
   "metadata": {},
   "source": [
    "### Add location markers"
   ]
  },
  {
   "cell_type": "code",
   "execution_count": null,
   "metadata": {},
   "outputs": [],
   "source": [
    "##Now lets look at the sufrace plot again, but this time add markers for observations at several points.\n",
    "#first we need to define our observational data into an array\n",
    "#this can also be imported from text files using various routines\n",
    "# Kyzylorda, Urzhar, Almaty, Balkhash\n",
    "obs_lat = np.array([44.8488,47.0870,43.2220,46.2161])\n",
    "obs_lon = np.array([65.4823,81.6315,76.8512,74.3775])\n",
    "obs_names = [\"Kyzylorda\", \"Urzhar\", \"Almaty\", \"Balkhash\"]"
   ]
  },
  {
   "cell_type": "code",
   "execution_count": null,
   "metadata": {},
   "outputs": [],
   "source": [
    "plt.figure(figsize=(20,8))\n",
    "\n",
    "#Define projection\n",
    "ax = plt.axes(projection=ccrs.PlateCarree())\n",
    "\n",
    "#define contour levels\n",
    "clev = np.arange(0, 100, 1)\n",
    "\n",
    "#plot the data\n",
    "plt.contourf(lon_cyc,lat,var_srf_cyc,clev,cmap='Spectral_r')\n",
    "\n",
    "# add coastlines\n",
    "ax.add_feature(cfeature.COASTLINE)\n",
    "\n",
    "#add lat lon grids\n",
    "ax.gridlines(draw_labels=True, color='grey', alpha=0.5, linestyle='--')\n",
    "\n",
    "#longitude limits in degrees\n",
    "ax.set_xlim(20,120)\n",
    "#latitude limits in degrees\n",
    "ax.set_ylim(5,60)\n",
    "\n",
    "# Title\n",
    "plt.title(\"CAM-chem 2019 O$_{3}$\")\n",
    "\n",
    "#axes\n",
    "# y-axis\n",
    "ax.text(-0.09, 0.55, 'Latitude', va='bottom', ha='center',\n",
    "        rotation='vertical', rotation_mode='anchor',\n",
    "        transform=ax.transAxes)\n",
    "# x-axis\n",
    "ax.text(0.5, -0.10, 'Longitude', va='bottom', ha='center',\n",
    "        rotation='horizontal', rotation_mode='anchor',\n",
    "        transform=ax.transAxes)\n",
    "# legend\n",
    "ax.text(1.18, 0.5, 'O$_{3}$ (ppb)', va='bottom', ha='center',\n",
    "        rotation='vertical', rotation_mode='anchor',\n",
    "        transform=ax.transAxes)\n",
    "\n",
    "#convert your observation lat/lon to Lambert-Conformal grid points\n",
    "#xpt,ypt = m(obs_lon,obs_lat)\n",
    "\n",
    "#to specify the color of each point it is easiest plot individual points in a loop\n",
    "for i in range(4):\n",
    "    plt.plot(obs_lon[i], obs_lat[i], linestyle='none', marker=\"o\", markersize=8, alpha=0.8, c=\"black\", markeredgecolor=\"black\", markeredgewidth=1, transform=ccrs.PlateCarree())\n",
    "    plt.text(obs_lon[i] - 0.8, obs_lat[i] - 0.5, obs_names[i], horizontalalignment='right', transform=ccrs.PlateCarree())\n",
    "\n",
    "    \n",
    "plt.colorbar()\n",
    "plt.show() "
   ]
  },
  {
   "cell_type": "code",
   "execution_count": null,
   "metadata": {},
   "outputs": [],
   "source": []
  }
 ],
 "metadata": {
  "kernelspec": {
   "display_name": "Python 3",
   "language": "python",
   "name": "python3"
  },
  "language_info": {
   "codemirror_mode": {
    "name": "ipython",
    "version": 3
   },
   "file_extension": ".py",
   "mimetype": "text/x-python",
   "name": "python",
   "nbconvert_exporter": "python",
   "pygments_lexer": "ipython3",
   "version": "3.7.5"
  }
 },
 "nbformat": 4,
 "nbformat_minor": 4
}
